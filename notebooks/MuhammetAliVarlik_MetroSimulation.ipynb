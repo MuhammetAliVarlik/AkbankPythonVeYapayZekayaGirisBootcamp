{
 "cells": [
  {
   "cell_type": "markdown",
   "metadata": {},
   "source": [
    "# 🚇 Akbank Python ve Yapay Zekaya Giriş Bootcamp Projesi: Sürücüsüz Metro Simülasyonu (Rota Optimizasyonu)"
   ]
  },
  {
   "cell_type": "code",
   "execution_count": 1,
   "metadata": {},
   "outputs": [],
   "source": [
    "from collections import defaultdict, deque\n",
    "import heapq\n",
    "from typing import Dict, List, Set, Tuple, Optional"
   ]
  },
  {
   "cell_type": "markdown",
   "metadata": {},
   "source": [
    "## 1-İstasyon Sınıfı"
   ]
  },
  {
   "cell_type": "markdown",
   "metadata": {},
   "source": [
    "### 1.1-`__init__` Fonksiyonu"
   ]
  },
  {
   "cell_type": "code",
   "execution_count": 2,
   "metadata": {},
   "outputs": [],
   "source": [
    "class Istasyon:\n",
    "    def __init__(self, idx: str, ad: str, hat: str):\n",
    "        self.idx = idx\n",
    "        self.ad = ad\n",
    "        self.hat = hat\n",
    "        self.komsular: List[Tuple['Istasyon', int]] = []  # (istasyon, süre) tuple'ları"
   ]
  },
  {
   "cell_type": "markdown",
   "metadata": {},
   "source": [
    "Her istasyon nesnesinin 4 adet değişkeni var:\n",
    "- 1-İstasyonun indeksi (idx)\n",
    "    - M1-K1-T1 gibi\n",
    "- 2-İstasyon adı (ad) bağlı olduğu hat \n",
    "    - Mavi-Kırmızı-Turuncu \n",
    "- 3-İstasyonun List halinde ona bağlı olan komşu istasyonları ve süreleri\n",
    "    - Komşu istasyonlar Tuple içinde İstasyon objesinden üretiliyor süre değeri de saklanıyor."
   ]
  },
  {
   "cell_type": "code",
   "execution_count": 3,
   "metadata": {},
   "outputs": [
    {
     "name": "stdout",
     "output_type": "stream",
     "text": [
      "<__main__.Istasyon object at 0x000002B90A714340>\n"
     ]
    }
   ],
   "source": [
    "istasyon = Istasyon(\"M1\", \"AŞTİ\", \"Mavi Hat\")\n",
    "print(istasyon)"
   ]
  },
  {
   "cell_type": "markdown",
   "metadata": {},
   "source": [
    "Kodu test ederken obje olarak döndüğünden `__repr__` eklemesine ihtiyaç duyuldu"
   ]
  },
  {
   "cell_type": "markdown",
   "metadata": {},
   "source": [
    "### 1.2-`__repr__` Fonksiyonu"
   ]
  },
  {
   "cell_type": "code",
   "execution_count": 4,
   "metadata": {},
   "outputs": [],
   "source": [
    "class Istasyon(Istasyon):\n",
    "    def __repr__(self):\n",
    "        return f\"Istasyon({self.idx}, {self.ad}, {self.hat})\"  "
   ]
  },
  {
   "cell_type": "markdown",
   "metadata": {},
   "source": [
    "`__repr__` metodu, objenin anlaşılır bir şekilde string olarak temsil edilmesini sağlar."
   ]
  },
  {
   "cell_type": "code",
   "execution_count": 5,
   "metadata": {},
   "outputs": [
    {
     "name": "stdout",
     "output_type": "stream",
     "text": [
      "Istasyon(M1, AŞTİ, Mavi Hat)\n"
     ]
    }
   ],
   "source": [
    "istasyon1 = Istasyon(\"M1\", \"AŞTİ\", \"Mavi Hat\")\n",
    "print(istasyon1)"
   ]
  },
  {
   "cell_type": "markdown",
   "metadata": {},
   "source": [
    "Örnek çıktı yukarıdaki gibidir."
   ]
  },
  {
   "cell_type": "markdown",
   "metadata": {},
   "source": [
    "### 1.3-komsu_ekle fonksiyonu"
   ]
  },
  {
   "cell_type": "code",
   "execution_count": 6,
   "metadata": {},
   "outputs": [],
   "source": [
    "class Istasyon(Istasyon):\n",
    "    def komsu_ekle(self, istasyon: 'Istasyon', sure: int):\n",
    "            self.komsular.append((istasyon, sure))"
   ]
  },
  {
   "cell_type": "markdown",
   "metadata": {},
   "source": [
    "İstasyonlara komşu istasyon eklemek için.\n",
    "\n",
    "Eklenecek istasyon objesini ve süreyi alır. self.komsular'a ekler"
   ]
  },
  {
   "cell_type": "code",
   "execution_count": 7,
   "metadata": {},
   "outputs": [
    {
     "name": "stdout",
     "output_type": "stream",
     "text": [
      "[(Istasyon(M2, Kızılay, Mavi Hat), 5)]\n"
     ]
    }
   ],
   "source": [
    "istasyon1 = Istasyon(\"M1\", \"AŞTİ\", \"Mavi Hat\")\n",
    "istasyon2=Istasyon(\"M2\",\"Kızılay\",\"Mavi Hat\")\n",
    "istasyon1.komsu_ekle(istasyon2,5)\n",
    "print(istasyon1.komsular)"
   ]
  },
  {
   "cell_type": "markdown",
   "metadata": {},
   "source": [
    "Örnek kullanımı ve sonucu yukarıdaki gibidir."
   ]
  },
  {
   "cell_type": "markdown",
   "metadata": {},
   "source": [
    "## 2-Metro Ağı Sınıfı"
   ]
  },
  {
   "cell_type": "markdown",
   "metadata": {},
   "source": [
    "### 2.1-`__init__` Fonksiyonu"
   ]
  },
  {
   "cell_type": "code",
   "execution_count": 8,
   "metadata": {},
   "outputs": [],
   "source": [
    "class MetroAgi:\n",
    "    def __init__(self):\n",
    "        self.istasyonlar: Dict[str, Istasyon] = {}\n",
    "        self.hatlar: Dict[str, List[Istasyon]] = defaultdict(list)"
   ]
  },
  {
   "cell_type": "markdown",
   "metadata": {},
   "source": [
    "Metro Ağı Sınıfı tanımlanır. Metro Ağının:\n",
    "- 1-Dictionary formatında istasyonları bulunur.\n",
    "- 2-Dictionary formatında İstasyonların birbirine bağlandığı hatlar bulunur"
   ]
  },
  {
   "cell_type": "markdown",
   "metadata": {},
   "source": [
    "### 2.2-`istasyon_ekle` fonksiyonu"
   ]
  },
  {
   "cell_type": "code",
   "execution_count": 9,
   "metadata": {},
   "outputs": [],
   "source": [
    "class MetroAgi(MetroAgi):\n",
    "    def istasyon_ekle(self, idx: str, ad: str, hat: str) -> None:\n",
    "        if id not in self.istasyonlar:\n",
    "            istasyon = Istasyon(idx, ad, hat)\n",
    "            self.istasyonlar[idx] = istasyon\n",
    "            self.hatlar[hat].append(istasyon)"
   ]
  },
  {
   "cell_type": "markdown",
   "metadata": {},
   "source": [
    "Verilen istasyonu verilen hatta eklemek için kullanılır."
   ]
  },
  {
   "cell_type": "markdown",
   "metadata": {},
   "source": [
    "### 2.3-`baglanti_ekle` fonksiyonu"
   ]
  },
  {
   "cell_type": "code",
   "execution_count": 10,
   "metadata": {},
   "outputs": [],
   "source": [
    "class MetroAgi(MetroAgi):\n",
    "    def baglanti_ekle(self, istasyon1_id: str, istasyon2_id: str, sure: int) -> None:\n",
    "        istasyon1 = self.istasyonlar[istasyon1_id]\n",
    "        istasyon2 = self.istasyonlar[istasyon2_id]\n",
    "        istasyon1.komsu_ekle(istasyon2, sure)\n",
    "        istasyon2.komsu_ekle(istasyon1, sure)"
   ]
  },
  {
   "cell_type": "markdown",
   "metadata": {},
   "source": [
    "İki istasyon arasındaki bağlantıyı tanımlamak için kullanılır."
   ]
  },
  {
   "cell_type": "markdown",
   "metadata": {},
   "source": [
    "### 2.4-`en_az_aktarma_bul` fonksiyonu (*BFS Algoritması*)"
   ]
  },
  {
   "cell_type": "code",
   "execution_count": 11,
   "metadata": {},
   "outputs": [],
   "source": [
    "class MetroAgi(MetroAgi):\n",
    "    def en_az_aktarma_bul(self, baslangic_id: str, hedef_id: str) -> Optional[List[Istasyon]]:\n",
    "        try:\n",
    "            # Eğer başlangıç istasyonu ağda yoksa None döndür\n",
    "            if baslangic_id not in self.istasyonlar:\n",
    "                print(\"Başlangıç istasyonu ağda bulunamadı.\")\n",
    "                return None\n",
    "            \n",
    "            # Eğer hedef istasyonu ağda yoksa None döndür\n",
    "            if hedef_id not in self.istasyonlar:\n",
    "                print(\"Hedef istasyonu ağda bulunamadı.\")\n",
    "                return None\n",
    "            \n",
    "            # Başlangıç ve Hedef istasyonu \n",
    "            baslangic = self.istasyonlar[baslangic_id]  \n",
    "            hedef = self.istasyonlar[hedef_id]\n",
    "\n",
    "            # Kuyruğa başlangıç istasyonu ve rota listesi eklenir\n",
    "            kuyruk = deque([(baslangic, [baslangic])])  \n",
    "\n",
    "            # Ziyaret edilen istasyonları tutmak için dictionary\n",
    "            ziyaret_edildi = {baslangic}  \n",
    "\n",
    "            while kuyruk:\n",
    "\n",
    "                # Kuyruğun başındaki öğeyi al\n",
    "                mevcut, rota = kuyruk.popleft()\n",
    "\n",
    "                # Eğer hedefe ulaşmışsak rota döndürülür\n",
    "                if mevcut == hedef:\n",
    "                    return rota \n",
    "                \n",
    "                # Mevcut istasyonun komşuları üzerinden gezin\n",
    "                for komsu, _ in mevcut.komsular:  \n",
    "\n",
    "                    # Eğer komşu istasyon daha önce ziyaret edilmemişse\n",
    "                    if komsu not in ziyaret_edildi:\n",
    "\n",
    "                        # Komşu istasyonu ziyaret edilmemişler listesine ekle\n",
    "                        ziyaret_edildi.add(komsu)\n",
    "\n",
    "                        # Komşu istasyonu rotaya ekle ve kuyruğa ekle\n",
    "                        kuyruk.append((komsu, rota + [komsu]))  \n",
    "            \n",
    "            # Eğer hedefe ulaşılamazsa None döndürülür\n",
    "            print(\"Hedefe ulaşılamadı!\")\n",
    "            return None\n",
    "        except Exception as e:\n",
    "                print(f\"Beklenmedik bir hata oluştu: {e}\")\n",
    "                return None  # Herhangi başka bir hata oluşursa, hata mesajı verilir ve None döndürülür"
   ]
  },
  {
   "cell_type": "markdown",
   "metadata": {},
   "source": [
    "BFS Algoritması:\n",
    "\n",
    "- Başlangıç istasyonu ile bir kuyruk başlatılır ve bu istasyonun yolculuk rotası başlatılır.\n",
    "- Ziyaret edilen istasyonlar bir küme içinde tutulur.\n",
    "- Kuyruktan bir istasyon çıkarılır, bu istasyonun komşuları kontrol edilir.\n",
    "- Eğer hedef istasyon bulunursa, o anki rota döndürülür.\n",
    "- Eğer komşu istasyon daha önce ziyaret edilmemişse, ziyaret edilmişler listesine eklenir ve komşu istasyon rotaya eklenerek kuyruğa eklenir."
   ]
  },
  {
   "cell_type": "markdown",
   "metadata": {},
   "source": [
    "### 2.5-`en_hizli_rota_bul` fonksiyonu (A* Algoritması)"
   ]
  },
  {
   "cell_type": "code",
   "execution_count": 12,
   "metadata": {},
   "outputs": [],
   "source": [
    "class MetroAgi(MetroAgi):\n",
    "    def en_hizli_rota_bul(self, baslangic_id: str, hedef_id: str) -> Optional[Tuple[List[Istasyon], int]]:\n",
    "        try:\n",
    "            # Eğer başlangıç istasyonu ağda yoksa döndür\n",
    "            if baslangic_id not in self.istasyonlar:\n",
    "                print(\"Başlangıç istasyonu ağda bulunamadı.\")\n",
    "                return None\n",
    "            \n",
    "            # Eğer hedef istasyonu ağda yoksa döndür\n",
    "            if hedef_id not in self.istasyonlar:\n",
    "                print(\"Hedef istasyonu ağda bulunamadı.\")\n",
    "                return None\n",
    "            \n",
    "            # Eğer başlangıç istasyonu ağda yoksa None döndür\n",
    "            baslangic = self.istasyonlar[baslangic_id]\n",
    "            hedef = self.istasyonlar[hedef_id]\n",
    "\n",
    "            # Ziyaret edilen istasyonlar\n",
    "            ziyaret_edildi = set()  \n",
    "\n",
    "            # Öncelik sırasına göre işlem yapmak için min-heap (priority queue) kullanıyoruz. Başlangıç istasyonu kuyruğa alınır.\n",
    "            pq = [(0, id(baslangic), baslangic, [baslangic])] \n",
    "\n",
    "            while pq:\n",
    "\n",
    "                # Öncelikli kuyruktan en küçük zamanlı öğeyi al\n",
    "                zaman, _, mevcut, rota = heapq.heappop(pq)\n",
    "\n",
    "                # Hedef istasyonu bulundu, rota ve süre döndürülür \n",
    "                if mevcut == hedef:\n",
    "                    return rota, zaman  \n",
    "                \n",
    "                 # Eğer bu istasyon daha önce ziyaret edildiyse geç\n",
    "                if mevcut in ziyaret_edildi:\n",
    "                    continue \n",
    "\n",
    "                # İstasyonu ziyaret edilmiş olarak işaretle\n",
    "                ziyaret_edildi.add(mevcut)  \n",
    "\n",
    "                # Mevcut istasyonun komşularını geziyoruz\n",
    "                for komsu, seyahatSüresi in mevcut.komsular:\n",
    "                    \n",
    "                    # Eğer komşu istasyon daha önce ziyaret edilmediyse\n",
    "                    if komsu not in ziyaret_edildi:  \n",
    "                        # Seyahat süresiyle birlikte komşu istasyonu kuyruğa ekle\n",
    "                        heapq.heappush(pq, (zaman + seyahatSüresi, id(komsu), komsu, rota + [komsu]))\n",
    "            # Eğer hedefe ulaşamazsak None döndürülür\n",
    "            print(\"Hedefe ulaşılamadı!\")\n",
    "            return None  \n",
    "        except Exception as e:\n",
    "            print(f\"Beklenmedik bir hata oluştu: {e}\")\n",
    "            return None  # Herhangi başka bir hata oluşursa, hata mesajı verilir ve None döndürülür"
   ]
  },
  {
   "cell_type": "markdown",
   "metadata": {},
   "source": [
    "- Kuyruk boşalana kadar devam edilir. Kuyruktan her seferinde en küçük zamanlı (yani en kısa süreli) istasyon çıkarılır.\n",
    "- Eğer bu istasyon hedefe eşitse, mevcut rota ve süre döndürülür.\n",
    "- Eğer istasyon daha önce ziyaret edildiyse, bu istasyonu atlar ve bir sonraki istasyona geçilir.\n",
    "- Her komşu istasyon için, komşuya ulaşma süresi eklenerek kuyruk güncellenir. Bu komşu istasyon, daha önce ziyaret edilmemişse kuyruğa eklenir."
   ]
  },
  {
   "cell_type": "markdown",
   "metadata": {},
   "source": [
    "## 3-Test Aşaması"
   ]
  },
  {
   "cell_type": "code",
   "execution_count": 13,
   "metadata": {},
   "outputs": [],
   "source": [
    "metro = MetroAgi()"
   ]
  },
  {
   "cell_type": "code",
   "execution_count": 14,
   "metadata": {},
   "outputs": [
    {
     "name": "stdout",
     "output_type": "stream",
     "text": [
      "<__main__.MetroAgi object at 0x000002B90A717E80>\n"
     ]
    }
   ],
   "source": [
    "print(metro)"
   ]
  },
  {
   "cell_type": "markdown",
   "metadata": {},
   "source": [
    "### 3.1-İstasyonlar ekleme"
   ]
  },
  {
   "cell_type": "code",
   "execution_count": 15,
   "metadata": {},
   "outputs": [],
   "source": [
    "# Kırmızı Hat\n",
    "metro.istasyon_ekle(\"K1\", \"Kızılay\", \"Kırmızı Hat\")\n",
    "metro.istasyon_ekle(\"K2\", \"Ulus\", \"Kırmızı Hat\")\n",
    "metro.istasyon_ekle(\"K3\", \"Demetevler\", \"Kırmızı Hat\")\n",
    "metro.istasyon_ekle(\"K4\", \"OSB\", \"Kırmızı Hat\")"
   ]
  },
  {
   "cell_type": "code",
   "execution_count": 16,
   "metadata": {},
   "outputs": [
    {
     "name": "stdout",
     "output_type": "stream",
     "text": [
      "{'K1': Istasyon(K1, Kızılay, Kırmızı Hat), 'K2': Istasyon(K2, Ulus, Kırmızı Hat), 'K3': Istasyon(K3, Demetevler, Kırmızı Hat), 'K4': Istasyon(K4, OSB, Kırmızı Hat)}\n"
     ]
    }
   ],
   "source": [
    "print(metro.istasyonlar)"
   ]
  },
  {
   "cell_type": "code",
   "execution_count": 17,
   "metadata": {},
   "outputs": [],
   "source": [
    "# Mavi Hat\n",
    "metro.istasyon_ekle(\"M1\", \"AŞTİ\", \"Mavi Hat\")\n",
    "metro.istasyon_ekle(\"M2\", \"Kızılay\", \"Mavi Hat\")  # Aktarma noktası\n",
    "metro.istasyon_ekle(\"M3\", \"Sıhhiye\", \"Mavi Hat\")\n",
    "metro.istasyon_ekle(\"M4\", \"Gar\", \"Mavi Hat\")"
   ]
  },
  {
   "cell_type": "code",
   "execution_count": 18,
   "metadata": {},
   "outputs": [
    {
     "name": "stdout",
     "output_type": "stream",
     "text": [
      "{'K1': Istasyon(K1, Kızılay, Kırmızı Hat), 'K2': Istasyon(K2, Ulus, Kırmızı Hat), 'K3': Istasyon(K3, Demetevler, Kırmızı Hat), 'K4': Istasyon(K4, OSB, Kırmızı Hat), 'M1': Istasyon(M1, AŞTİ, Mavi Hat), 'M2': Istasyon(M2, Kızılay, Mavi Hat), 'M3': Istasyon(M3, Sıhhiye, Mavi Hat), 'M4': Istasyon(M4, Gar, Mavi Hat)}\n"
     ]
    }
   ],
   "source": [
    "print(metro.istasyonlar)"
   ]
  },
  {
   "cell_type": "code",
   "execution_count": 19,
   "metadata": {},
   "outputs": [],
   "source": [
    "# Turuncu Hat\n",
    "metro.istasyon_ekle(\"T1\", \"Batıkent\", \"Turuncu Hat\")\n",
    "metro.istasyon_ekle(\"T2\", \"Demetevler\", \"Turuncu Hat\")  # Aktarma noktası\n",
    "metro.istasyon_ekle(\"T3\", \"Gar\", \"Turuncu Hat\")  # Aktarma noktası\n",
    "metro.istasyon_ekle(\"T4\", \"Keçiören\", \"Turuncu Hat\")"
   ]
  },
  {
   "cell_type": "code",
   "execution_count": 20,
   "metadata": {},
   "outputs": [
    {
     "name": "stdout",
     "output_type": "stream",
     "text": [
      "{'K1': Istasyon(K1, Kızılay, Kırmızı Hat), 'K2': Istasyon(K2, Ulus, Kırmızı Hat), 'K3': Istasyon(K3, Demetevler, Kırmızı Hat), 'K4': Istasyon(K4, OSB, Kırmızı Hat), 'M1': Istasyon(M1, AŞTİ, Mavi Hat), 'M2': Istasyon(M2, Kızılay, Mavi Hat), 'M3': Istasyon(M3, Sıhhiye, Mavi Hat), 'M4': Istasyon(M4, Gar, Mavi Hat), 'T1': Istasyon(T1, Batıkent, Turuncu Hat), 'T2': Istasyon(T2, Demetevler, Turuncu Hat), 'T3': Istasyon(T3, Gar, Turuncu Hat), 'T4': Istasyon(T4, Keçiören, Turuncu Hat)}\n"
     ]
    }
   ],
   "source": [
    "print(metro.istasyonlar)"
   ]
  },
  {
   "cell_type": "markdown",
   "metadata": {},
   "source": [
    "### 3.2-Bağlantıları ekleme"
   ]
  },
  {
   "cell_type": "code",
   "execution_count": 21,
   "metadata": {},
   "outputs": [
    {
     "name": "stdout",
     "output_type": "stream",
     "text": [
      "[]\n",
      "[]\n",
      "[]\n"
     ]
    }
   ],
   "source": [
    "print(metro.istasyonlar[\"K1\"].komsular)\n",
    "print(metro.istasyonlar[\"K2\"].komsular)\n",
    "print(metro.istasyonlar[\"K3\"].komsular)"
   ]
  },
  {
   "cell_type": "code",
   "execution_count": 22,
   "metadata": {},
   "outputs": [],
   "source": [
    "# Kırmızı Hat bağlantıları\n",
    "metro.baglanti_ekle(\"K1\", \"K2\", 4)  # Kızılay -> Ulus\n",
    "metro.baglanti_ekle(\"K2\", \"K3\", 6)  # Ulus -> Demetevler\n",
    "metro.baglanti_ekle(\"K3\", \"K4\", 8)  # Demetevler -> OSB"
   ]
  },
  {
   "cell_type": "code",
   "execution_count": 23,
   "metadata": {},
   "outputs": [
    {
     "name": "stdout",
     "output_type": "stream",
     "text": [
      "[(Istasyon(K2, Ulus, Kırmızı Hat), 4)]\n",
      "[(Istasyon(K1, Kızılay, Kırmızı Hat), 4), (Istasyon(K3, Demetevler, Kırmızı Hat), 6)]\n",
      "[(Istasyon(K2, Ulus, Kırmızı Hat), 6), (Istasyon(K4, OSB, Kırmızı Hat), 8)]\n"
     ]
    }
   ],
   "source": [
    "print(metro.istasyonlar[\"K1\"].komsular)\n",
    "print(metro.istasyonlar[\"K2\"].komsular)\n",
    "print(metro.istasyonlar[\"K3\"].komsular)"
   ]
  },
  {
   "cell_type": "code",
   "execution_count": 24,
   "metadata": {},
   "outputs": [],
   "source": [
    "# Mavi Hat bağlantıları\n",
    "metro.baglanti_ekle(\"M1\", \"M2\", 5)  # AŞTİ -> Kızılay\n",
    "metro.baglanti_ekle(\"M2\", \"M3\", 3)  # Kızılay -> Sıhhiye\n",
    "metro.baglanti_ekle(\"M3\", \"M4\", 4)  # Sıhhiye -> Gar"
   ]
  },
  {
   "cell_type": "code",
   "execution_count": 25,
   "metadata": {},
   "outputs": [
    {
     "name": "stdout",
     "output_type": "stream",
     "text": [
      "[(Istasyon(M2, Kızılay, Mavi Hat), 5)]\n",
      "[(Istasyon(M1, AŞTİ, Mavi Hat), 5), (Istasyon(M3, Sıhhiye, Mavi Hat), 3)]\n",
      "[(Istasyon(M2, Kızılay, Mavi Hat), 3), (Istasyon(M4, Gar, Mavi Hat), 4)]\n"
     ]
    }
   ],
   "source": [
    "print(metro.istasyonlar[\"M1\"].komsular)\n",
    "print(metro.istasyonlar[\"M2\"].komsular)\n",
    "print(metro.istasyonlar[\"M3\"].komsular)"
   ]
  },
  {
   "cell_type": "code",
   "execution_count": 26,
   "metadata": {},
   "outputs": [],
   "source": [
    "# Turuncu Hat bağlantıları\n",
    "metro.baglanti_ekle(\"T1\", \"T2\", 7)  # Batıkent -> Demetevler\n",
    "metro.baglanti_ekle(\"T2\", \"T3\", 9)  # Demetevler -> Gar\n",
    "metro.baglanti_ekle(\"T3\", \"T4\", 5)  # Gar -> Keçiören"
   ]
  },
  {
   "cell_type": "code",
   "execution_count": 27,
   "metadata": {},
   "outputs": [
    {
     "name": "stdout",
     "output_type": "stream",
     "text": [
      "[(Istasyon(T2, Demetevler, Turuncu Hat), 7)]\n",
      "[(Istasyon(T1, Batıkent, Turuncu Hat), 7), (Istasyon(T3, Gar, Turuncu Hat), 9)]\n",
      "[(Istasyon(T2, Demetevler, Turuncu Hat), 9), (Istasyon(T4, Keçiören, Turuncu Hat), 5)]\n"
     ]
    }
   ],
   "source": [
    "print(metro.istasyonlar[\"T1\"].komsular)\n",
    "print(metro.istasyonlar[\"T2\"].komsular)\n",
    "print(metro.istasyonlar[\"T3\"].komsular)"
   ]
  },
  {
   "cell_type": "markdown",
   "metadata": {},
   "source": [
    "###  3.3-Hat aktarma bağlantıları (aynı istasyon farklı hatlar)"
   ]
  },
  {
   "cell_type": "code",
   "execution_count": 28,
   "metadata": {},
   "outputs": [
    {
     "name": "stdout",
     "output_type": "stream",
     "text": [
      "[(Istasyon(K2, Ulus, Kırmızı Hat), 4)]\n",
      "[(Istasyon(K2, Ulus, Kırmızı Hat), 6), (Istasyon(K4, OSB, Kırmızı Hat), 8)]\n",
      "[(Istasyon(M3, Sıhhiye, Mavi Hat), 4)]\n"
     ]
    }
   ],
   "source": [
    "print(metro.istasyonlar[\"K1\"].komsular)\n",
    "print(metro.istasyonlar[\"K3\"].komsular)\n",
    "print(metro.istasyonlar[\"M4\"].komsular)"
   ]
  },
  {
   "cell_type": "code",
   "execution_count": 29,
   "metadata": {},
   "outputs": [],
   "source": [
    "\n",
    "metro.baglanti_ekle(\"K1\", \"M2\", 2)  # Kızılay aktarma\n",
    "metro.baglanti_ekle(\"K3\", \"T2\", 3)  # Demetevler aktarma\n",
    "metro.baglanti_ekle(\"M4\", \"T3\", 2)  # Gar aktarma"
   ]
  },
  {
   "cell_type": "code",
   "execution_count": 30,
   "metadata": {},
   "outputs": [
    {
     "name": "stdout",
     "output_type": "stream",
     "text": [
      "[(Istasyon(K2, Ulus, Kırmızı Hat), 4), (Istasyon(M2, Kızılay, Mavi Hat), 2)]\n",
      "[(Istasyon(K2, Ulus, Kırmızı Hat), 6), (Istasyon(K4, OSB, Kırmızı Hat), 8), (Istasyon(T2, Demetevler, Turuncu Hat), 3)]\n",
      "[(Istasyon(M3, Sıhhiye, Mavi Hat), 4), (Istasyon(T3, Gar, Turuncu Hat), 2)]\n"
     ]
    }
   ],
   "source": [
    "print(metro.istasyonlar[\"K1\"].komsular)\n",
    "print(metro.istasyonlar[\"K3\"].komsular)\n",
    "print(metro.istasyonlar[\"M4\"].komsular)"
   ]
  },
  {
   "cell_type": "markdown",
   "metadata": {},
   "source": [
    "### 3.4-Test Senaryoları"
   ]
  },
  {
   "cell_type": "markdown",
   "metadata": {},
   "source": [
    "<div>\n",
    "<img src=\"../diagrams/istasyonlar.svg\" width=\"750\"/>\n",
    "</div>"
   ]
  },
  {
   "cell_type": "markdown",
   "metadata": {},
   "source": [
    "#### *Senaryo 1: AŞTİ'den OSB'ye*"
   ]
  },
  {
   "cell_type": "code",
   "execution_count": null,
   "metadata": {},
   "outputs": [
    {
     "name": "stdout",
     "output_type": "stream",
     "text": [
      "\n",
      "1. AŞTİ'den OSB'ye:\n",
      "En az aktarmalı rota: AŞTİ -> Kızılay -> Kızılay -> Ulus -> Demetevler -> OSB\n",
      "En hızlı rota (25 dakika): AŞTİ -> Kızılay -> Kızılay -> Ulus -> Demetevler -> OSB\n"
     ]
    }
   ],
   "source": [
    "print(\"\\n1. AŞTİ'den OSB'ye:\")\n",
    "rota = metro.en_az_aktarma_bul(\"M1\", \"K4\")\n",
    "if rota:\n",
    "    print(\"En az aktarmalı rota:\", \" -> \".join(i.ad for i in rota))\n",
    "\n",
    "sonuc = metro.en_hizli_rota_bul(\"M1\", \"K4\")\n",
    "if sonuc:\n",
    "    rota, sure = sonuc\n",
    "    print(f\"En hızlı rota ({sure} dakika):\", \" -> \".join(i.ad for i in rota))"
   ]
  },
  {
   "cell_type": "markdown",
   "metadata": {},
   "source": [
    "#### *Senaryo 2: Batıkent'ten Keçiören'e*"
   ]
  },
  {
   "cell_type": "code",
   "execution_count": null,
   "metadata": {},
   "outputs": [
    {
     "name": "stdout",
     "output_type": "stream",
     "text": [
      "\n",
      "2. Batıkent'ten Keçiören'e:\n",
      "En az aktarmalı rota: Batıkent -> Demetevler -> Gar -> Keçiören\n",
      "En hızlı rota (21 dakika): Batıkent -> Demetevler -> Gar -> Keçiören\n"
     ]
    }
   ],
   "source": [
    "print(\"\\n2. Batıkent'ten Keçiören'e:\")\n",
    "rota = metro.en_az_aktarma_bul(\"T1\", \"T4\")\n",
    "if rota:\n",
    "    print(\"En az aktarmalı rota:\", \" -> \".join(i.ad for i in rota))\n",
    "\n",
    "sonuc = metro.en_hizli_rota_bul(\"T1\", \"T4\")\n",
    "if sonuc:\n",
    "    rota, sure = sonuc\n",
    "    print(f\"En hızlı rota ({sure} dakika):\", \" -> \".join(i.ad for i in rota))"
   ]
  },
  {
   "cell_type": "markdown",
   "metadata": {},
   "source": [
    "#### *Senaryo 3: Keçiören'den AŞTİ'ye*"
   ]
  },
  {
   "cell_type": "code",
   "execution_count": null,
   "metadata": {},
   "outputs": [
    {
     "name": "stdout",
     "output_type": "stream",
     "text": [
      "\n",
      "3. Keçiören'den AŞTİ'ye:\n",
      "En az aktarmalı rota: Keçiören -> Gar -> Gar -> Sıhhiye -> Kızılay -> AŞTİ\n",
      "En hızlı rota (19 dakika): Keçiören -> Gar -> Gar -> Sıhhiye -> Kızılay -> AŞTİ\n"
     ]
    }
   ],
   "source": [
    "print(\"\\n3. Keçiören'den AŞTİ'ye:\")\n",
    "rota = metro.en_az_aktarma_bul(\"T4\", \"M1\")\n",
    "if rota:\n",
    "    print(\"En az aktarmalı rota:\", \" -> \".join(i.ad for i in rota))\n",
    "\n",
    "sonuc = metro.en_hizli_rota_bul(\"T4\", \"M1\")\n",
    "if sonuc:\n",
    "    rota, sure = sonuc\n",
    "    print(f\"En hızlı rota ({sure} dakika):\", \" -> \".join(i.ad for i in rota))"
   ]
  },
  {
   "cell_type": "markdown",
   "metadata": {},
   "source": [
    "#### *Senaryo 4: Daha az aktarmalı ama daha uzun sürebilecek bir rota*"
   ]
  },
  {
   "cell_type": "code",
   "execution_count": 33,
   "metadata": {},
   "outputs": [
    {
     "name": "stdout",
     "output_type": "stream",
     "text": [
      "\n",
      "4. AŞTİ’den Keçiören’e:\n",
      "En az aktarmalı rota: Ulus -> Demetevler -> Demetevler -> Gar -> Keçiören\n",
      "En hızlı rota (20 dakika): Ulus -> Kızılay -> Kızılay -> Sıhhiye -> Gar -> Gar -> Keçiören\n"
     ]
    }
   ],
   "source": [
    "print(\"\\n4. AŞTİ’den Keçiören’e:\")\n",
    "rota = metro.en_az_aktarma_bul(\"K2\", \"T4\")  # Daha az aktarmalı ama daha uzun sürebilecek bir rota\n",
    "if rota:\n",
    "    print(\"En az aktarmalı rota:\", \" -> \".join(i.ad for i in rota))\n",
    "\n",
    "sonuc = metro.en_hizli_rota_bul(\"K2\", \"T4\")  # Daha fazla aktarma ile ama daha kısa sürede ulaşılabilecek bir rota\n",
    "if sonuc:\n",
    "    rota, sure = sonuc\n",
    "    print(f\"En hızlı rota ({sure} dakika):\", \" -> \".join(i.ad for i in rota))"
   ]
  },
  {
   "cell_type": "markdown",
   "metadata": {},
   "source": [
    "#### *Senaryo 5: Hedef İstasyonun Bulunmadığı Durum (Geçersiz İstasyon)*"
   ]
  },
  {
   "cell_type": "code",
   "execution_count": null,
   "metadata": {},
   "outputs": [
    {
     "name": "stdout",
     "output_type": "stream",
     "text": [
      "\n",
      "5. Hedef İstasyon Bulunamadı (Geçersiz İstasyon):\n",
      "Hedef istasyonu ağda bulunamadı.\n",
      "Hedef istasyonu ağda bulunamadı.\n"
     ]
    }
   ],
   "source": [
    "print(\"\\n5. Hedef İstasyon Bulunamadı (Geçersiz İstasyon):\")\n",
    "rota = metro.en_az_aktarma_bul(\"M1\", \"X3\")  # X3 geçersiz bir istasyon\n",
    "if rota:\n",
    "    print(\"En az aktarmalı rota:\", \" -> \".join(i.ad for i in rota))\n",
    "\n",
    "sonuc = metro.en_hizli_rota_bul(\"M1\", \"X3\")  # X3 geçersiz bir istasyon\n",
    "if sonuc:\n",
    "    rota, sure = sonuc\n",
    "    print(f\"En hızlı rota ({sure} dakika):\", \" -> \".join(i.ad for i in rota))"
   ]
  },
  {
   "cell_type": "markdown",
   "metadata": {},
   "source": [
    "#### *Senaryo 6: Geçersiz Başlangıç İstasyonu*"
   ]
  },
  {
   "cell_type": "code",
   "execution_count": 34,
   "metadata": {},
   "outputs": [
    {
     "name": "stdout",
     "output_type": "stream",
     "text": [
      "\n",
      "6. Geçersiz Başlangıç İstasyonu (Başlangıç yok):\n",
      "Başlangıç istasyonu ağda bulunamadı.\n",
      "Başlangıç istasyonu ağda bulunamadı.\n"
     ]
    }
   ],
   "source": [
    "print(\"\\n6. Geçersiz Başlangıç İstasyonu (Başlangıç yok):\")\n",
    "rota = metro.en_az_aktarma_bul(\"X1\", \"K4\")  # X1 geçersiz bir başlangıç istasyonu\n",
    "if rota:\n",
    "    print(\"En az aktarmalı rota:\", \" -> \".join(i.ad for i in rota))\n",
    "\n",
    "sonuc = metro.en_hizli_rota_bul(\"X1\", \"K4\")  # X1 geçersiz bir başlangıç istasyonu\n",
    "if sonuc:\n",
    "    rota, sure = sonuc\n",
    "    print(f\"En hızlı rota ({sure} dakika):\", \" -> \".join(i.ad for i in rota))"
   ]
  },
  {
   "cell_type": "markdown",
   "metadata": {},
   "source": [
    "#### *Senaryo 7: Aynı İstasyon, Başlangıç ve Hedef Aynı*"
   ]
  },
  {
   "cell_type": "code",
   "execution_count": 35,
   "metadata": {},
   "outputs": [
    {
     "name": "stdout",
     "output_type": "stream",
     "text": [
      "\n",
      "7. Başlangıç ve Hedef Aynı (AŞTİ'den AŞTİ'ye):\n",
      "En az aktarmalı rota: AŞTİ\n",
      "En hızlı rota (0 dakika): AŞTİ\n"
     ]
    }
   ],
   "source": [
    "print(\"\\n7. Başlangıç ve Hedef Aynı (AŞTİ'den AŞTİ'ye):\")\n",
    "rota = metro.en_az_aktarma_bul(\"M1\", \"M1\")  # Aynı istasyona gitmek\n",
    "if rota:\n",
    "    print(\"En az aktarmalı rota:\", \" -> \".join(i.ad for i in rota))\n",
    "\n",
    "sonuc = metro.en_hizli_rota_bul(\"M1\", \"M1\")  # Aynı istasyona gitmek\n",
    "if sonuc:\n",
    "    rota, sure = sonuc\n",
    "    print(f\"En hızlı rota ({sure} dakika):\", \" -> \".join(i.ad for i in rota))"
   ]
  },
  {
   "cell_type": "markdown",
   "metadata": {},
   "source": [
    "#### *Senaryo 8: Ters Rota (İstasyonlar Arasında Ters Yön)*"
   ]
  },
  {
   "cell_type": "code",
   "execution_count": 36,
   "metadata": {},
   "outputs": [
    {
     "name": "stdout",
     "output_type": "stream",
     "text": [
      "\n",
      "8. Ters Yönle Rota Arama (AŞTİ'den Keçiören'e):\n",
      "En az aktarmalı rota: AŞTİ -> Kızılay -> Sıhhiye -> Gar -> Gar -> Keçiören\n",
      "En hızlı rota (19 dakika): AŞTİ -> Kızılay -> Sıhhiye -> Gar -> Gar -> Keçiören\n"
     ]
    }
   ],
   "source": [
    "print(\"\\n8. Ters Yönle Rota Arama (AŞTİ'den Keçiören'e):\")\n",
    "rota = metro.en_az_aktarma_bul(\"M1\", \"T4\")  # AŞTİ'den Keçiören'e, ters yön\n",
    "if rota:\n",
    "    print(\"En az aktarmalı rota:\", \" -> \".join(i.ad for i in rota))\n",
    "\n",
    "sonuc = metro.en_hizli_rota_bul(\"M1\", \"T4\")  # AŞTİ'den Keçiören'e, ters yön\n",
    "if sonuc:\n",
    "    rota, sure = sonuc\n",
    "    print(f\"En hızlı rota ({sure} dakika):\", \" -> \".join(i.ad for i in rota))"
   ]
  },
  {
   "cell_type": "markdown",
   "metadata": {},
   "source": [
    "## 4-Bonus"
   ]
  },
  {
   "cell_type": "markdown",
   "metadata": {},
   "source": [
    "### 4.1-BFS Detaylı Anlatım"
   ]
  },
  {
   "cell_type": "markdown",
   "metadata": {},
   "source": [
    "Başlangıç: Ulus (K2)\n",
    "\n",
    "Hedef: Keçiören (T2)\n",
    "\n",
    "🔹 BFS Algoritması ile en az aktarmalı rotayı bulacağız.\n",
    "\n",
    "📌 İstasyonlar ve Bağlantılar:\n",
    "\n",
    "- Ulus (K2) ↔ Demetevler (K3) (6 dk)\n",
    "- Demetevler (K3) ↔ Demetevler (T2) (3 dk)\n",
    "\n",
    "Toplam süre: 2 aktarma  9 dakika "
   ]
  },
  {
   "cell_type": "markdown",
   "metadata": {},
   "source": [
    "<div>\n",
    "<img src=\"../diagrams/istasyonlar.svg\" width=\"750\"/>\n",
    "</div>"
   ]
  },
  {
   "cell_type": "markdown",
   "metadata": {},
   "source": [
    "### 4.1.1-Kuyruğumuzun başlangıç durumu\n",
    "\n",
    "\n",
    "kuyruk = deque([(K2, [\"Ulus\"])])"
   ]
  },
  {
   "cell_type": "markdown",
   "metadata": {},
   "source": [
    "deque([\n",
    "\n",
    "    (K2, [\"Ulus\"])\n",
    "\n",
    "])\n",
    "\n",
    "Ziyaret Edilenler: {K2}"
   ]
  },
  {
   "cell_type": "markdown",
   "metadata": {},
   "source": [
    "### 4.1.2-K2 İşlenir\n",
    "\n",
    "mevcut, rota = kuyruk.popleft()"
   ]
  },
  {
   "cell_type": "markdown",
   "metadata": {},
   "source": [
    "🟢 Mevcut istasyon: M1 (Ulus)\n",
    "\n",
    "🔹 Şu ana kadar izlenen rota: [\"Ulus\"]"
   ]
  },
  {
   "cell_type": "markdown",
   "metadata": {},
   "source": [
    "K2'nin komşuları:\n",
    "\n",
    "- K1 (Kızılay, 4 dk)\n",
    "- K3 (Demetevler, 6 dk)"
   ]
  },
  {
   "cell_type": "markdown",
   "metadata": {},
   "source": [
    "📌 Yeni Kuyruk:\n",
    "\n",
    "deque([\n",
    "    \n",
    "    (K1, [K2 → K1]), \n",
    "    (K3, [K2 → K3])\n",
    "    \n",
    "])\n",
    "\n",
    "Ziyaret Edilenler: {K2, K1, K3}"
   ]
  },
  {
   "cell_type": "markdown",
   "metadata": {},
   "source": [
    "### 4.1.3-K1 İşlenir\n",
    "\n",
    "mevcut, rota = kuyruk.popleft()"
   ]
  },
  {
   "cell_type": "markdown",
   "metadata": {},
   "source": [
    "K1'in komşuları:\n",
    "\n",
    "- M2 (Kızılay, aktarma)"
   ]
  },
  {
   "cell_type": "markdown",
   "metadata": {},
   "source": [
    "📌 Yeni Kuyruk:\n",
    "\n",
    "deque([\n",
    "\n",
    "    (K3, [K2 → K3]), \n",
    "    (M2, [K2 → K1 → M2])\n",
    "\n",
    "])\n",
    "\n",
    "Ziyaret Edilenler: {K2, K1, K3, M2}"
   ]
  },
  {
   "cell_type": "markdown",
   "metadata": {},
   "source": [
    "### 4.1.4-K3 İşlenir\n",
    "\n",
    "mevcut, rota = kuyruk.popleft()"
   ]
  },
  {
   "cell_type": "markdown",
   "metadata": {},
   "source": [
    "K3'ün komşuları:\n",
    "\n",
    "- K4 (OSB)\n",
    "- T2 (Demetevler)"
   ]
  },
  {
   "cell_type": "markdown",
   "metadata": {},
   "source": [
    "deque([\n",
    "    \n",
    "    (M2, [K2 → K1 → M2]), \n",
    "    (K4, [K2 → K3 → K4]), \n",
    "    (T2, [K2 → K3 → T2])\n",
    "    \n",
    "])\n",
    "\n",
    "Ziyaret Edilenler: {K2, K1, K3, M2, K4, T2}"
   ]
  },
  {
   "cell_type": "markdown",
   "metadata": {},
   "source": [
    "T2 bulundu en hızlı rota \n",
    "\n",
    "*K2 → K3 → T2* "
   ]
  },
  {
   "cell_type": "markdown",
   "metadata": {},
   "source": [
    "## 4.2 A* Detaylı Anlatım"
   ]
  },
  {
   "cell_type": "markdown",
   "metadata": {},
   "source": [
    "1️⃣ Algoritma Başlangıcı\n",
    "\n",
    "- Başlangıç: K2 (Ulus, Kırmızı Hat)\n",
    "- Hedef: T2 (Keçiören, Turuncu Hat)\n",
    "- Öncelik Sırası (Min-Heap) başlatılır:"
   ]
  },
  {
   "cell_type": "markdown",
   "metadata": {},
   "source": [
    "pq = [(\n",
    "    \n",
    "    0, Toplam maliyet\n",
    "    0, heuristik maliyet\n",
    "    K2, mevcut istasyon\n",
    "    [K2] rota\n",
    ")]  "
   ]
  },
  {
   "cell_type": "markdown",
   "metadata": {},
   "source": [
    "Ziyaret Edilenler: {}"
   ]
  },
  {
   "cell_type": "markdown",
   "metadata": {},
   "source": [
    "### 4.2.1 K2 İşlenir"
   ]
  },
  {
   "cell_type": "markdown",
   "metadata": {},
   "source": [
    "Komşular:\n",
    "\n",
    "- K1 (Kızılay, 4 dk)\n",
    "- K3 (Demetevler, 6 dk)"
   ]
  },
  {
   "cell_type": "markdown",
   "metadata": {},
   "source": [
    "pq = [(4 + h(K1), K1, [K2 → K1]), (6 + h(K3), K3, [K2 → K3])]"
   ]
  },
  {
   "cell_type": "markdown",
   "metadata": {},
   "source": [
    "Ziyaret Edilenler: {K2}"
   ]
  },
  {
   "cell_type": "markdown",
   "metadata": {},
   "source": [
    "### 4.2.2 K1 İşlenir"
   ]
  },
  {
   "cell_type": "markdown",
   "metadata": {},
   "source": [
    "Komşular:\n",
    "\n",
    "- M2 (Kızılay, Mavi Hat, 2 dk aktarma)"
   ]
  },
  {
   "cell_type": "markdown",
   "metadata": {},
   "source": [
    "pq = [(6 + h(K3), K3, [K2 → K3]), (6 + h(M2), M2, [K2 → K1 → M2])]"
   ]
  },
  {
   "cell_type": "markdown",
   "metadata": {},
   "source": [
    "Ziyaret Edilenler: {K2, K1}"
   ]
  },
  {
   "cell_type": "markdown",
   "metadata": {},
   "source": [
    "### 4.2.3 K3 İşlenir"
   ]
  },
  {
   "cell_type": "markdown",
   "metadata": {},
   "source": [
    "Komşular:\n",
    "\n",
    "- K4 (OSB, 8 dk)\n",
    "- T2 (Demetevler, 3 dk aktarma) → Hedefe ulaştık! ✅"
   ]
  },
  {
   "cell_type": "markdown",
   "metadata": {},
   "source": [
    "pq = [(6 + h(M2), M2, [K2 → K1 → M2]), (9 + h(T2), T2, [K2 → K3 → T2])]"
   ]
  },
  {
   "cell_type": "markdown",
   "metadata": {},
   "source": [
    "Sonuç: K2 → K3 → T2"
   ]
  }
 ],
 "metadata": {
  "kernelspec": {
   "display_name": "tensorflow",
   "language": "python",
   "name": "python3"
  },
  "language_info": {
   "codemirror_mode": {
    "name": "ipython",
    "version": 3
   },
   "file_extension": ".py",
   "mimetype": "text/x-python",
   "name": "python",
   "nbconvert_exporter": "python",
   "pygments_lexer": "ipython3",
   "version": "3.10.16"
  }
 },
 "nbformat": 4,
 "nbformat_minor": 2
}
